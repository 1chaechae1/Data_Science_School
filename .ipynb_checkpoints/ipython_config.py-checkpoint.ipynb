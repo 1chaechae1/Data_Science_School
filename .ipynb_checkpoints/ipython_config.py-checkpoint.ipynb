{
 "cells": [
  {
   "cell_type": "code",
   "execution_count": 3,
   "metadata": {},
   "outputs": [],
   "source": [
    "import matplotlib.font_manager"
   ]
  },
  {
   "cell_type": "code",
   "execution_count": 4,
   "metadata": {},
   "outputs": [
    {
     "data": {
      "text/plain": [
       "['Nanum Brush Script',\n",
       " 'Nanum Pen Script',\n",
       " 'NanumBarunGothic',\n",
       " 'NanumBarunGothic',\n",
       " 'NanumBarunGothic',\n",
       " 'NanumBarunGothic',\n",
       " 'NanumBarunpen',\n",
       " 'NanumBarunpen',\n",
       " 'NanumGothic',\n",
       " 'NanumGothic',\n",
       " 'NanumGothic',\n",
       " 'NanumGothic',\n",
       " 'NanumGothic',\n",
       " 'NanumGothic',\n",
       " 'NanumGothic',\n",
       " 'NanumGothic',\n",
       " 'NanumGothic',\n",
       " 'NanumGothic',\n",
       " 'NanumGothic Eco',\n",
       " 'NanumGothic Eco',\n",
       " 'NanumGothic Eco',\n",
       " 'NanumMyeongjo Eco',\n",
       " 'NanumMyeongjo Eco',\n",
       " 'NanumMyeongjo Eco',\n",
       " 'NanumSquare',\n",
       " 'NanumSquare',\n",
       " 'NanumSquare',\n",
       " 'NanumSquare',\n",
       " 'NanumSquareRound',\n",
       " 'NanumSquareRound',\n",
       " 'NanumSquareRound',\n",
       " 'NanumSquareRound',\n",
       " 'NanumSquare_ac',\n",
       " 'NanumSquare_ac',\n",
       " 'NanumSquare_ac',\n",
       " 'NanumSquare_ac']"
      ]
     },
     "execution_count": 4,
     "metadata": {},
     "output_type": "execute_result"
    }
   ],
   "source": [
    "matplotlib.font_manager._rebuild()\n",
    "sorted([f.name for f in matplotlib.font_manager.fontManager.ttflist if \n",
    "f.name.startswith(\"Nanum\")])"
   ]
  },
  {
   "cell_type": "code",
   "execution_count": null,
   "metadata": {},
   "outputs": [],
   "source": []
  }
 ],
 "metadata": {
  "kernelspec": {
   "display_name": "Python 3",
   "language": "python",
   "name": "python3"
  },
  "language_info": {
   "codemirror_mode": {
    "name": "ipython",
    "version": 3
   },
   "file_extension": ".py",
   "mimetype": "text/x-python",
   "name": "python",
   "nbconvert_exporter": "python",
   "pygments_lexer": "ipython3",
   "version": "3.8.5"
  }
 },
 "nbformat": 4,
 "nbformat_minor": 4
}
