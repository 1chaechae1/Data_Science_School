{
 "cells": [
  {
   "cell_type": "code",
   "execution_count": 1,
   "metadata": {},
   "outputs": [
    {
     "data": {
      "image/png": "[encoded data removed]",
      "text/plain": [
       "<Figure size 504x504 with 1 Axes>"
      ]
     },
     "metadata": {
      "needs_background": "light"
     },
     "output_type": "display_data"
    }
   ],
   "source": [
    "import scipy as sp\n",
    "import scipy.stats\n",
    "import numpy as np\n",
    "import matplotlib.pyplot as plt\n",
    "\n",
    "np.random.seed(0)\n",
    "x = np.random.rand(2)\n",
    "\n",
    "plt.figure(figsize=(7,7))\n",
    "sp.stats.probplot(x, plot=plt)\n",
    "plt.ylim(-0.5, 1.5)\n",
    "plt.show()"
   ]
  },
  {
   "cell_type": "code",
   "execution_count": 2,
   "metadata": {
    "scrolled": true
   },
   "outputs": [
    {
     "data": {
      "image/png": "[encoded data removed]",
      "text/plain": [
       "<Figure size 504x504 with 1 Axes>"
      ]
     },
     "metadata": {
      "needs_background": "light"
     },
     "output_type": "display_data"
    }
   ],
   "source": [
    "import scipy as sp\n",
    "import scipy.stats\n",
    "import numpy as np\n",
    "import matplotlib.pyplot as plt\n",
    "\n",
    "np.random.seed(0)\n",
    "x = np.random.rand(10)\n",
    "\n",
    "plt.figure(figsize=(7,7))\n",
    "sp.stats.probplot(x, plot=plt)\n",
    "plt.ylim(-0.5, 1.5)\n",
    "plt.show()"
   ]
  },
  {
   "cell_type": "code",
   "execution_count": 3,
   "metadata": {},
   "outputs": [],
   "source": [
    "import numpy as np\n",
    "import pandas as pd\n",
    "import matplotlib.pyplot as plt\n",
    "from datetime import datetime \n",
    "import pandas_datareader.data as wb"
   ]
  },
  {
   "cell_type": "code",
   "execution_count": 4,
   "metadata": {
    "scrolled": true
   },
   "outputs": [
    {
     "data": {
      "text/html": [
       "<div>\n",
       "<style scoped>\n",
       "    .dataframe tbody tr th:only-of-type {\n",
       "        vertical-align: middle;\n",
       "    }\n",
       "\n",
       "    .dataframe tbody tr th {\n",
       "        vertical-align: top;\n",
       "    }\n",
       "\n",
       "    .dataframe thead th {\n",
       "        text-align: right;\n",
       "    }\n",
       "</style>\n",
       "<table border=\"1\" class=\"dataframe\">\n",
       "  <thead>\n",
       "    <tr style=\"text-align: right;\">\n",
       "      <th></th>\n",
       "      <th>High</th>\n",
       "      <th>Low</th>\n",
       "      <th>Open</th>\n",
       "      <th>Close</th>\n",
       "      <th>Volume</th>\n",
       "      <th>Adj Close</th>\n",
       "    </tr>\n",
       "    <tr>\n",
       "      <th>Date</th>\n",
       "      <th></th>\n",
       "      <th></th>\n",
       "      <th></th>\n",
       "      <th></th>\n",
       "      <th></th>\n",
       "      <th></th>\n",
       "    </tr>\n",
       "  </thead>\n",
       "  <tbody>\n",
       "    <tr>\n",
       "      <th>2010-04-01</th>\n",
       "      <td>16900.0</td>\n",
       "      <td>16480.0</td>\n",
       "      <td>16520.0</td>\n",
       "      <td>16900.0</td>\n",
       "      <td>28068050.0</td>\n",
       "      <td>13779.429688</td>\n",
       "    </tr>\n",
       "    <tr>\n",
       "      <th>2010-04-02</th>\n",
       "      <td>17200.0</td>\n",
       "      <td>16820.0</td>\n",
       "      <td>16920.0</td>\n",
       "      <td>17140.0</td>\n",
       "      <td>20907050.0</td>\n",
       "      <td>13975.111328</td>\n",
       "    </tr>\n",
       "    <tr>\n",
       "      <th>2010-04-05</th>\n",
       "      <td>17400.0</td>\n",
       "      <td>17140.0</td>\n",
       "      <td>17220.0</td>\n",
       "      <td>17400.0</td>\n",
       "      <td>15201700.0</td>\n",
       "      <td>14187.105469</td>\n",
       "    </tr>\n",
       "    <tr>\n",
       "      <th>2010-04-06</th>\n",
       "      <td>17500.0</td>\n",
       "      <td>17220.0</td>\n",
       "      <td>17480.0</td>\n",
       "      <td>17380.0</td>\n",
       "      <td>16494250.0</td>\n",
       "      <td>14170.797852</td>\n",
       "    </tr>\n",
       "    <tr>\n",
       "      <th>2010-04-07</th>\n",
       "      <td>17380.0</td>\n",
       "      <td>17040.0</td>\n",
       "      <td>17300.0</td>\n",
       "      <td>17180.0</td>\n",
       "      <td>19418550.0</td>\n",
       "      <td>14007.727539</td>\n",
       "    </tr>\n",
       "    <tr>\n",
       "      <th>...</th>\n",
       "      <td>...</td>\n",
       "      <td>...</td>\n",
       "      <td>...</td>\n",
       "      <td>...</td>\n",
       "      <td>...</td>\n",
       "      <td>...</td>\n",
       "    </tr>\n",
       "    <tr>\n",
       "      <th>2020-04-23</th>\n",
       "      <td>50300.0</td>\n",
       "      <td>49500.0</td>\n",
       "      <td>50200.0</td>\n",
       "      <td>49850.0</td>\n",
       "      <td>18754442.0</td>\n",
       "      <td>48007.953125</td>\n",
       "    </tr>\n",
       "    <tr>\n",
       "      <th>2020-04-24</th>\n",
       "      <td>49750.0</td>\n",
       "      <td>49000.0</td>\n",
       "      <td>49650.0</td>\n",
       "      <td>49350.0</td>\n",
       "      <td>15618347.0</td>\n",
       "      <td>47526.425781</td>\n",
       "    </tr>\n",
       "    <tr>\n",
       "      <th>2020-04-27</th>\n",
       "      <td>50000.0</td>\n",
       "      <td>49100.0</td>\n",
       "      <td>49350.0</td>\n",
       "      <td>49850.0</td>\n",
       "      <td>14049471.0</td>\n",
       "      <td>48007.953125</td>\n",
       "    </tr>\n",
       "    <tr>\n",
       "      <th>2020-04-28</th>\n",
       "      <td>50100.0</td>\n",
       "      <td>49300.0</td>\n",
       "      <td>49850.0</td>\n",
       "      <td>50100.0</td>\n",
       "      <td>16095399.0</td>\n",
       "      <td>48248.710938</td>\n",
       "    </tr>\n",
       "    <tr>\n",
       "      <th>2020-04-29</th>\n",
       "      <td>50500.0</td>\n",
       "      <td>49600.0</td>\n",
       "      <td>49900.0</td>\n",
       "      <td>50000.0</td>\n",
       "      <td>15604533.0</td>\n",
       "      <td>48152.410156</td>\n",
       "    </tr>\n",
       "  </tbody>\n",
       "</table>\n",
       "<p>2481 rows × 6 columns</p>\n",
       "</div>"
      ],
      "text/plain": [
       "               High      Low     Open    Close      Volume     Adj Close\n",
       "Date                                                                    \n",
       "2010-04-01  16900.0  16480.0  16520.0  16900.0  28068050.0  13779.429688\n",
       "2010-04-02  17200.0  16820.0  16920.0  17140.0  20907050.0  13975.111328\n",
       "2010-04-05  17400.0  17140.0  17220.0  17400.0  15201700.0  14187.105469\n",
       "2010-04-06  17500.0  17220.0  17480.0  17380.0  16494250.0  14170.797852\n",
       "2010-04-07  17380.0  17040.0  17300.0  17180.0  19418550.0  14007.727539\n",
       "...             ...      ...      ...      ...         ...           ...\n",
       "2020-04-23  50300.0  49500.0  50200.0  49850.0  18754442.0  48007.953125\n",
       "2020-04-24  49750.0  49000.0  49650.0  49350.0  15618347.0  47526.425781\n",
       "2020-04-27  50000.0  49100.0  49350.0  49850.0  14049471.0  48007.953125\n",
       "2020-04-28  50100.0  49300.0  49850.0  50100.0  16095399.0  48248.710938\n",
       "2020-04-29  50500.0  49600.0  49900.0  50000.0  15604533.0  48152.410156\n",
       "\n",
       "[2481 rows x 6 columns]"
      ]
     },
     "execution_count": 4,
     "metadata": {},
     "output_type": "execute_result"
    }
   ],
   "source": [
    "start = datetime(2010,4,1) \n",
    "end = datetime(2020,4,30)\n",
    "df = wb.DataReader('005930.KS','yahoo',start,end) \n",
    "df"
   ]
  },
  {
   "cell_type": "code",
   "execution_count": 5,
   "metadata": {},
   "outputs": [
    {
     "data": {
      "text/plain": [
       "Index(['High', 'Low', 'Open', 'Close', 'Volume', 'Adj Close'], dtype='object')"
      ]
     },
     "execution_count": 5,
     "metadata": {},
     "output_type": "execute_result"
    }
   ],
   "source": [
    "df.columns"
   ]
  },
  {
   "cell_type": "code",
   "execution_count": 6,
   "metadata": {
    "scrolled": true
   },
   "outputs": [
    {
     "data": {
      "text/plain": [
       "High         float64\n",
       "Low          float64\n",
       "Open         float64\n",
       "Close        float64\n",
       "Volume       float64\n",
       "Adj Close    float64\n",
       "dtype: object"
      ]
     },
     "execution_count": 6,
     "metadata": {},
     "output_type": "execute_result"
    }
   ],
   "source": [
    "df.dtypes"
   ]
  },
  {
   "cell_type": "code",
   "execution_count": 7,
   "metadata": {},
   "outputs": [
    {
     "data": {
      "text/html": [
       "<div>\n",
       "<style scoped>\n",
       "    .dataframe tbody tr th:only-of-type {\n",
       "        vertical-align: middle;\n",
       "    }\n",
       "\n",
       "    .dataframe tbody tr th {\n",
       "        vertical-align: top;\n",
       "    }\n",
       "\n",
       "    .dataframe thead th {\n",
       "        text-align: right;\n",
       "    }\n",
       "</style>\n",
       "<table border=\"1\" class=\"dataframe\">\n",
       "  <thead>\n",
       "    <tr style=\"text-align: right;\">\n",
       "      <th></th>\n",
       "      <th>High</th>\n",
       "      <th>Low</th>\n",
       "      <th>Open</th>\n",
       "      <th>Close</th>\n",
       "      <th>Volume</th>\n",
       "      <th>Adj Close</th>\n",
       "      <th>tomorrow Adj Close</th>\n",
       "      <th>Fluctuation</th>\n",
       "      <th>Fluctuation Rate</th>\n",
       "    </tr>\n",
       "    <tr>\n",
       "      <th>Date</th>\n",
       "      <th></th>\n",
       "      <th></th>\n",
       "      <th></th>\n",
       "      <th></th>\n",
       "      <th></th>\n",
       "      <th></th>\n",
       "      <th></th>\n",
       "      <th></th>\n",
       "      <th></th>\n",
       "    </tr>\n",
       "  </thead>\n",
       "  <tbody>\n",
       "    <tr>\n",
       "      <th>2010-04-01</th>\n",
       "      <td>16900.0</td>\n",
       "      <td>16480.0</td>\n",
       "      <td>16520.0</td>\n",
       "      <td>16900.0</td>\n",
       "      <td>28068050.0</td>\n",
       "      <td>13779.429688</td>\n",
       "      <td>13975.111328</td>\n",
       "      <td>195.681641</td>\n",
       "      <td>0.014201</td>\n",
       "    </tr>\n",
       "    <tr>\n",
       "      <th>2010-04-02</th>\n",
       "      <td>17200.0</td>\n",
       "      <td>16820.0</td>\n",
       "      <td>16920.0</td>\n",
       "      <td>17140.0</td>\n",
       "      <td>20907050.0</td>\n",
       "      <td>13975.111328</td>\n",
       "      <td>14187.105469</td>\n",
       "      <td>211.994141</td>\n",
       "      <td>0.015169</td>\n",
       "    </tr>\n",
       "    <tr>\n",
       "      <th>2010-04-05</th>\n",
       "      <td>17400.0</td>\n",
       "      <td>17140.0</td>\n",
       "      <td>17220.0</td>\n",
       "      <td>17400.0</td>\n",
       "      <td>15201700.0</td>\n",
       "      <td>14187.105469</td>\n",
       "      <td>14170.797852</td>\n",
       "      <td>-16.307617</td>\n",
       "      <td>-0.001149</td>\n",
       "    </tr>\n",
       "    <tr>\n",
       "      <th>2010-04-06</th>\n",
       "      <td>17500.0</td>\n",
       "      <td>17220.0</td>\n",
       "      <td>17480.0</td>\n",
       "      <td>17380.0</td>\n",
       "      <td>16494250.0</td>\n",
       "      <td>14170.797852</td>\n",
       "      <td>14007.727539</td>\n",
       "      <td>-163.070312</td>\n",
       "      <td>-0.011507</td>\n",
       "    </tr>\n",
       "    <tr>\n",
       "      <th>2010-04-07</th>\n",
       "      <td>17380.0</td>\n",
       "      <td>17040.0</td>\n",
       "      <td>17300.0</td>\n",
       "      <td>17180.0</td>\n",
       "      <td>19418550.0</td>\n",
       "      <td>14007.727539</td>\n",
       "      <td>14072.956055</td>\n",
       "      <td>65.228516</td>\n",
       "      <td>0.004657</td>\n",
       "    </tr>\n",
       "    <tr>\n",
       "      <th>...</th>\n",
       "      <td>...</td>\n",
       "      <td>...</td>\n",
       "      <td>...</td>\n",
       "      <td>...</td>\n",
       "      <td>...</td>\n",
       "      <td>...</td>\n",
       "      <td>...</td>\n",
       "      <td>...</td>\n",
       "      <td>...</td>\n",
       "    </tr>\n",
       "    <tr>\n",
       "      <th>2020-04-23</th>\n",
       "      <td>50300.0</td>\n",
       "      <td>49500.0</td>\n",
       "      <td>50200.0</td>\n",
       "      <td>49850.0</td>\n",
       "      <td>18754442.0</td>\n",
       "      <td>48007.953125</td>\n",
       "      <td>47526.425781</td>\n",
       "      <td>-481.527344</td>\n",
       "      <td>-0.010030</td>\n",
       "    </tr>\n",
       "    <tr>\n",
       "      <th>2020-04-24</th>\n",
       "      <td>49750.0</td>\n",
       "      <td>49000.0</td>\n",
       "      <td>49650.0</td>\n",
       "      <td>49350.0</td>\n",
       "      <td>15618347.0</td>\n",
       "      <td>47526.425781</td>\n",
       "      <td>48007.953125</td>\n",
       "      <td>481.527344</td>\n",
       "      <td>0.010132</td>\n",
       "    </tr>\n",
       "    <tr>\n",
       "      <th>2020-04-27</th>\n",
       "      <td>50000.0</td>\n",
       "      <td>49100.0</td>\n",
       "      <td>49350.0</td>\n",
       "      <td>49850.0</td>\n",
       "      <td>14049471.0</td>\n",
       "      <td>48007.953125</td>\n",
       "      <td>48248.710938</td>\n",
       "      <td>240.757812</td>\n",
       "      <td>0.005015</td>\n",
       "    </tr>\n",
       "    <tr>\n",
       "      <th>2020-04-28</th>\n",
       "      <td>50100.0</td>\n",
       "      <td>49300.0</td>\n",
       "      <td>49850.0</td>\n",
       "      <td>50100.0</td>\n",
       "      <td>16095399.0</td>\n",
       "      <td>48248.710938</td>\n",
       "      <td>48152.410156</td>\n",
       "      <td>-96.300781</td>\n",
       "      <td>-0.001996</td>\n",
       "    </tr>\n",
       "    <tr>\n",
       "      <th>2020-04-29</th>\n",
       "      <td>50500.0</td>\n",
       "      <td>49600.0</td>\n",
       "      <td>49900.0</td>\n",
       "      <td>50000.0</td>\n",
       "      <td>15604533.0</td>\n",
       "      <td>48152.410156</td>\n",
       "      <td>NaN</td>\n",
       "      <td>NaN</td>\n",
       "      <td>NaN</td>\n",
       "    </tr>\n",
       "  </tbody>\n",
       "</table>\n",
       "<p>2481 rows × 9 columns</p>\n",
       "</div>"
      ],
      "text/plain": [
       "               High      Low     Open    Close      Volume     Adj Close  \\\n",
       "Date                                                                       \n",
       "2010-04-01  16900.0  16480.0  16520.0  16900.0  28068050.0  13779.429688   \n",
       "2010-04-02  17200.0  16820.0  16920.0  17140.0  20907050.0  13975.111328   \n",
       "2010-04-05  17400.0  17140.0  17220.0  17400.0  15201700.0  14187.105469   \n",
       "2010-04-06  17500.0  17220.0  17480.0  17380.0  16494250.0  14170.797852   \n",
       "2010-04-07  17380.0  17040.0  17300.0  17180.0  19418550.0  14007.727539   \n",
       "...             ...      ...      ...      ...         ...           ...   \n",
       "2020-04-23  50300.0  49500.0  50200.0  49850.0  18754442.0  48007.953125   \n",
       "2020-04-24  49750.0  49000.0  49650.0  49350.0  15618347.0  47526.425781   \n",
       "2020-04-27  50000.0  49100.0  49350.0  49850.0  14049471.0  48007.953125   \n",
       "2020-04-28  50100.0  49300.0  49850.0  50100.0  16095399.0  48248.710938   \n",
       "2020-04-29  50500.0  49600.0  49900.0  50000.0  15604533.0  48152.410156   \n",
       "\n",
       "            tomorrow Adj Close  Fluctuation  Fluctuation Rate  \n",
       "Date                                                           \n",
       "2010-04-01        13975.111328   195.681641          0.014201  \n",
       "2010-04-02        14187.105469   211.994141          0.015169  \n",
       "2010-04-05        14170.797852   -16.307617         -0.001149  \n",
       "2010-04-06        14007.727539  -163.070312         -0.011507  \n",
       "2010-04-07        14072.956055    65.228516          0.004657  \n",
       "...                        ...          ...               ...  \n",
       "2020-04-23        47526.425781  -481.527344         -0.010030  \n",
       "2020-04-24        48007.953125   481.527344          0.010132  \n",
       "2020-04-27        48248.710938   240.757812          0.005015  \n",
       "2020-04-28        48152.410156   -96.300781         -0.001996  \n",
       "2020-04-29                 NaN          NaN               NaN  \n",
       "\n",
       "[2481 rows x 9 columns]"
      ]
     },
     "execution_count": 7,
     "metadata": {},
     "output_type": "execute_result"
    }
   ],
   "source": [
    "df['tomorrow Adj Close']= df['Adj Close'].shift(-1)\n",
    "df['Fluctuation']= df['tomorrow Adj Close']-df['Adj Close']\n",
    "df['Fluctuation Rate']= df['Fluctuation']/df['Adj Close']\n",
    "df"
   ]
  },
  {
   "cell_type": "code",
   "execution_count": 8,
   "metadata": {
    "scrolled": true
   },
   "outputs": [
    {
     "data": {
      "text/plain": [
       "Text(0.5, 1.0, 'Fluctuation Rate Histogram')"
      ]
     },
     "execution_count": 8,
     "metadata": {},
     "output_type": "execute_result"
    },
    {
     "data": {
      "image/png": "[encoded data removed]",
      "text/plain": [
       "<Figure size 432x288 with 1 Axes>"
      ]
     },
     "metadata": {
      "needs_background": "light"
     },
     "output_type": "display_data"
    }
   ],
   "source": [
    "df['Fluctuation Rate'].plot.hist()\n",
    "plt.title('Fluctuation Rate Histogram')"
   ]
  },
  {
   "cell_type": "code",
   "execution_count": 13,
   "metadata": {
    "scrolled": false
   },
   "outputs": [
    {
     "data": {
      "text/plain": [
       "[<matplotlib.lines.Line2D at 0x1bd001fbee0>]"
      ]
     },
     "execution_count": 13,
     "metadata": {},
     "output_type": "execute_result"
    },
    {
     "data": {
      "image/png": "[encoded data removed]",
      "text/plain": [
       "<Figure size 432x288 with 1 Axes>"
      ]
     },
     "metadata": {
      "needs_background": "light"
     },
     "output_type": "display_data"
    }
   ],
   "source": [
    "import scipy as sp\n",
    "import scipy.stats\n",
    "import numpy as np\n",
    "import matplotlib.pyplot as plt\n",
    "import math\n",
    "\n",
    "def normal_pdf(x, mu=3, sigma=0.5):\n",
    "    return(math.exp(-(x-mu)**2)/(2*sigma**2))/(math.sqrt(2*math.pi)*sigma)\n",
    "xs = [x/10 for x in range(-50, 50)]\n",
    "plt.plot(xs, [normal_pdf(x) for x in xs])"
   ]
  },
  {
   "cell_type": "code",
   "execution_count": 14,
   "metadata": {},
   "outputs": [
    {
     "data": {
      "text/plain": [
       "[<matplotlib.lines.Line2D at 0x1bd0032f250>]"
      ]
     },
     "execution_count": 14,
     "metadata": {},
     "output_type": "execute_result"
    },
    {
     "data": {
      "image/png": "[encoded data removed]",
      "text/plain": [
       "<Figure size 432x288 with 1 Axes>"
      ]
     },
     "metadata": {
      "needs_background": "light"
     },
     "output_type": "display_data"
    }
   ],
   "source": [
    "import scipy as sp\n",
    "import scipy.stats\n",
    "import numpy as np\n",
    "import matplotlib.pyplot as plt\n",
    "import math\n",
    "\n",
    "def normal_pdf(x, mu=2.3, sigma=0.5):\n",
    "    return(math.exp(-(x-mu)**2)/(2*sigma**2))/(math.sqrt(2*math.pi)*sigma)\n",
    "xs = [x/10 for x in range(-50, 50)]\n",
    "plt.plot(xs, [normal_pdf(x) for x in xs])"
   ]
  },
  {
   "cell_type": "code",
   "execution_count": 15,
   "metadata": {
    "scrolled": true
   },
   "outputs": [
    {
     "data": {
      "text/plain": [
       "Text(0.5, 1.0, 'Probability of PDF')"
      ]
     },
     "execution_count": 15,
     "metadata": {},
     "output_type": "execute_result"
    },
    {
     "data": {
      "image/png": "[encoded data removed]",
      "text/plain": [
       "<Figure size 432x288 with 1 Axes>"
      ]
     },
     "metadata": {
      "needs_background": "light"
     },
     "output_type": "display_data"
    }
   ],
   "source": [
    "plt.plot(xs, [normal_pdf(x, sigma=0.5) for x in xs], '-', label='mu=2.3, sigma=0.5')\n",
    "plt.plot(xs, [normal_pdf(x, sigma=0.5) for x in xs], '--', label='mu=3, sigma=0.5')\n",
    "plt.plot(xs, [normal_pdf(x, mu=2.3) for x in xs], '-.', label='mu=2.3, sigma=0.5')\n",
    "plt.legend()\n",
    "plt.title('Probability of PDF')"
   ]
  },
  {
   "cell_type": "code",
   "execution_count": 15,
   "metadata": {},
   "outputs": [
    {
     "name": "stderr",
     "output_type": "stream",
     "text": [
      "C:\\Users\\chq11\\anaconda3\\lib\\site-packages\\seaborn\\distributions.py:2551: FutureWarning: `distplot` is a deprecated function and will be removed in a future version. Please adapt your code to use either `displot` (a figure-level function with similar flexibility) or `histplot` (an axes-level function for histograms).\n",
      "  warnings.warn(msg, FutureWarning)\n",
      "C:\\Users\\chq11\\anaconda3\\lib\\site-packages\\seaborn\\distributions.py:2551: FutureWarning: `distplot` is a deprecated function and will be removed in a future version. Please adapt your code to use either `displot` (a figure-level function with similar flexibility) or `histplot` (an axes-level function for histograms).\n",
      "  warnings.warn(msg, FutureWarning)\n",
      "C:\\Users\\chq11\\anaconda3\\lib\\site-packages\\seaborn\\distributions.py:2551: FutureWarning: `distplot` is a deprecated function and will be removed in a future version. Please adapt your code to use either `displot` (a figure-level function with similar flexibility) or `histplot` (an axes-level function for histograms).\n",
      "  warnings.warn(msg, FutureWarning)\n"
     ]
    },
    {
     "data": {
      "image/png": "[encoded data removed]",
      "text/plain": [
       "<Figure size 432x648 with 6 Axes>"
      ]
     },
     "metadata": {
      "needs_background": "light"
     },
     "output_type": "display_data"
    }
   ],
   "source": [
    "import seaborn as sns\n",
    "\n",
    "np.random.seed(0)\n",
    "xx = np.linspace(-5, 5, 100)\n",
    "\n",
    "plt.figure(figsize=(6, 9))\n",
    "\n",
    "for i, N in enumerate([1, 2, 5]):\n",
    "    X = np.random.rand(5000, N)\n",
    "    Xbar = (X.mean(axis=1) - 3) * np.sqrt(2 * N)\n",
    "    ax = plt.subplot(3, 2, 2 * i + 1)\n",
    "    sns.distplot(Xbar, bins=10, kde=False, norm_hist=True)\n",
    "    plt.xlim(-10, 10)\n",
    "    plt.yticks([])\n",
    "    ax.set_title(\"N = {0}\".format(N))\n",
    "    plt.subplot(3, 2, 2 * i + 2)\n",
    "    sp.stats.probplot(Xbar, plot=plt)\n",
    "\n",
    "plt.tight_layout()\n",
    "plt.show()"
   ]
  },
  {
   "cell_type": "code",
   "execution_count": 27,
   "metadata": {},
   "outputs": [
    {
     "data": {
      "image/png": "[encoded data removed]",
      "text/plain": [
       "<Figure size 432x288 with 1 Axes>"
      ]
     },
     "metadata": {
      "needs_background": "light"
     },
     "output_type": "display_data"
    }
   ],
   "source": [
    "import scipy.stats as stats\n",
    "import numpy as np\n",
    "import pandas as pd\n",
    "\n",
    "mu = 3\n",
    "std = 0.5\n",
    "rv = sp.stats.norm(mu, std)\n",
    "\n",
    "xx = np.linspace(-5, 5, 100)\n",
    "plt.plot(xx, rv.pdf(xx))\n",
    "plt.arrow(0.05, 0.05, 2,0, lw=3, color='r', \n",
    "          head_width=0.02, head_length=0.2, length_includes_head=True)\n",
    "plt.arrow(0, 0.05, 4, 0, lw=3, color='r', \n",
    "          head_width=0.02, head_length=0.2, length_includes_head=True)\n",
    "plt.ylabel(\"p(x)\")\n",
    "plt.title(\"pdf\")\n",
    "plt.show()"
   ]
  },
  {
   "cell_type": "code",
   "execution_count": null,
   "metadata": {},
   "outputs": [],
   "source": []
  }
 ],
 "metadata": {
  "kernelspec": {
   "display_name": "Python 3",
   "language": "python",
   "name": "python3"
  },
  "language_info": {
   "codemirror_mode": {
    "name": "ipython",
    "version": 3
   },
   "file_extension": ".py",
   "mimetype": "text/x-python",
   "name": "python",
   "nbconvert_exporter": "python",
   "pygments_lexer": "ipython3",
   "version": "3.8.5"
  }
 },
 "nbformat": 4,
 "nbformat_minor": 4
}
